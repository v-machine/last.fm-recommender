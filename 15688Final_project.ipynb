{
 "cells": [
  {
   "cell_type": "markdown",
   "metadata": {},
   "source": [
    "## LAST.FM MUSIC RECOMMENDER \n",
    "### exploring matrix factorization and autoencoder in user-based collaborative filtering"
   ]
  },
  {
   "cell_type": "markdown",
   "metadata": {},
   "source": [
    "## Problem Statement\n",
    "\n",
    "Online music streaming services had become the dominant medium for users to \n",
    "access music. The purpose of a music recommender is two-fold: to create \n",
    "better user experiences and to increase the commercial value of streaming \n",
    "platforms. </b> \n",
    "\n",
    "For the term project we are interested in exploring collaborative filtering recomendation which typically consists of user-based and content-based appraoches. We will focused on user-based approach for it is the lighter approach that only takes into account users' past ratings of the songs. We will build two recommenders using a traditional approach of matrix factorization and a modern deep learning approach of deep autoencoder respectively. Subsequently, we will compare their performances in predicting users' preferences on songs masked as \"unseen\" and conduct analysis in relation to the nature of the data. "
   ]
  },
  {
   "cell_type": "markdown",
   "metadata": {},
   "source": [
    "## Content\n",
    "- [Problem Statement](#Problem-Statement)\n",
    "- [Related work](#Related-work)\n",
    "- [Data Collection](#Data-Collection)\n",
    "- [Data Exploration](#Data-Exploration)\n",
    "- [Preprocessing](#Preprocessing)\n",
    "- [Data Preparation](#Data-Preparation)\n",
    "- [Building Recommenders](#Building-Recommenders)\n",
    "    - [Matrix Factoriazaition Pipeline](#Matrix-Factoriazaition-Pipeline)\n",
    "    - [Deep Autoencoder Pipeline](#Deep-Autoencoder-Pipeline)\n",
    "- [Prediction](#Prediction)\n",
    "- [Analysis](#Analysis)\n",
    "- [Conclusion](#Conclusion)\n",
    "- [Future Investigation](#Future-Investigation)"
   ]
  },
  {
   "cell_type": "markdown",
   "metadata": {},
   "source": [
    "## Related Work\n",
    "\n",
    "\n",
    "While matrix factorization method with SVD had been the traditonally popular in collaboratie filtering based recommender systems, recent effort have increasing migrated toward deep learning technique. Kuchaiev and Ginsburg [1] had proposed a recommender architecture built using deep autoencoders. The authors found that the deep autoencoders generalized better than shallow once; while the use of non-linear activation with negative parts helps propagate gradients and finally, the heavy use of drop-out and regularization is crucial in preventing overfitting. Li et al [2] pointed out that traditional technique such as matrix factorization fall short on capturing non-linaring in the user-item interaction. They had demonstrated the potentials of a deep neural network while highlighting the challenge in training and overfitting. We follow closely techniques used the these papers, preprocessing of sparse input data, denosing using dropout as well as using computing loss with a zero-mask. \n",
    "\n",
    "[1]CollaborativeAutoencoderforRecommenderSystems\n",
    "https://pdfs.semanticscholar.org/838e/9ddc41b6badb9bf1f64cd7e2a18f8adda057.pdf\n",
    "\n",
    "[2]TrainingDeepAutoEncodersforCollaborativeFiltering \n",
    "https://arxiv.org/pdf/1708.01715.pdf"
   ]
  },
  {
   "cell_type": "markdown",
   "metadata": {},
   "source": [
    "## Data Collection\n",
    "We will mainly use Last.fm api to collect our data, where we can retrieve a set of users and their N most frequently played songs in a most recent window of time (for this project, the window is one month). The Last.fm API had provided just such method: `User.getTopTracks`. The caveat of using this method is that we'll need to pass in list of usernames as argument, which is not readily available for privacy reason. To get around this challenge, we will use the search phrase `site:last.fm/user/` on popular search engine website and scrape usernames. Our experiments had showed Bing by far returned the most number of usernames. __Importantly, as a good privacy practice, make sure that usernames are hashed before publishing any parts of the data harvested.__"
   ]
  },
  {
   "cell_type": "code",
   "execution_count": 1,
   "metadata": {},
   "outputs": [],
   "source": [
    "import time\n",
    "import re\n",
    "from bs4 import BeautifulSoup\n",
    "import urllib.request\n",
    "import numpy as np\n",
    "import progressbar\n",
    "import pylast\n",
    "import os\n",
    "import operator\n",
    "import scipy.sparse as sp\n",
    "import matplotlib.pyplot as plt\n",
    "from collections import OrderedDict"
   ]
  },
  {
   "cell_type": "code",
   "execution_count": 2,
   "metadata": {},
   "outputs": [],
   "source": [
    "API_KEY = \"389968e3566746e89cbb4750271c3aa1\"\n",
    "API_SECRET = \"a96e6333143c6f686fd045a41acf1f4e\"\n",
    "PATH_USERNAMES = \"dataset/usernames.npy\"\n",
    "PATH_SONGS = \"dataset/songs.npy\"\n",
    "PATH_RATINGS = \"dataset/ratings.npy\"\n",
    "PATH_MATRIX = \"dataset/matrix.npz\"\n",
    "PATH_RATING_DICT = \"dataset/rating_dict.npy\"\n",
    "PATH_MODEL = \"model/ae.model\""
   ]
  },
  {
   "cell_type": "code",
   "execution_count": 3,
   "metadata": {},
   "outputs": [],
   "source": [
    "def get_username_from_url(request):\n",
    "    res = set()\n",
    "    with urllib.request.urlopen(request) as urlObject:\n",
    "        html = urlObject.read()\n",
    "        soup = BeautifulSoup(html, \"html.parser\")\n",
    "        results = soup.findAll('li', { \"class\" : \"b_algo\" })\n",
    "        for result in results:\n",
    "            result = str(result.find('a').get('href'))\n",
    "            username = re.search(r'https:\\/\\/[^\\.]+.last.fm\\/user\\/([^\\/]+)', result)\n",
    "            if username is not None:\n",
    "                res.add(username.group(1))\n",
    "            else:\n",
    "                print('failed to fetch username in', result)\n",
    "    return res"
   ]
  },
  {
   "cell_type": "code",
   "execution_count": 4,
   "metadata": {},
   "outputs": [],
   "source": [
    "def bing_search():\n",
    "    print('crawling usernames from Bing')\n",
    "    url = \"https://www.bing.com/search?q=site%3alast.fm%2fuser%2f&qs=ds&first={0}&FORM=PERE\"\n",
    "    headers = {'User-Agent':'Chro/5.0 (Windows NT 10.0; Win64; x64; rv:54.0) Gecko/20100101 Firefox/54.0'}\n",
    "    res = set()\n",
    "    start = 1\n",
    "    address = url.format(start)\n",
    "    request = urllib.request.Request(address, None, headers)\n",
    "    res = res.union(get_username_from_url(request))\n",
    "    start = 15\n",
    "    total = 1000\n",
    "    with progressbar.ProgressBar(max_value=total) as bar:\n",
    "        while start < total:\n",
    "            address = url.format(start)\n",
    "            request = urllib.request.Request(address, None, headers)     \n",
    "            res = res.union(get_username_from_url(request))\n",
    "            start += 10\n",
    "            bar.update(min(start, total))\n",
    "            time.sleep(1)\n",
    "    print('crawled %d usernames from bing search'%len(res))\n",
    "    return res"
   ]
  },
  {
   "cell_type": "markdown",
   "metadata": {},
   "source": [
    "In addtion to crawling Bing to scrape usernames (returns 768 names), we will use Last.fm's api method `user.get_friends()` to find user's friends to ensure we have big enough of a dataset. With a \"depth=1\" search, we are able to get 9682 users."
   ]
  },
  {
   "cell_type": "code",
   "execution_count": 5,
   "metadata": {},
   "outputs": [],
   "source": [
    "network = pylast.LastFMNetwork(api_key=API_KEY, api_secret=API_SECRET)\n",
    "\n",
    "def crawl_user_friends(usernames, depth=1, max_friends=0):\n",
    "    usernames = usernames[:]\n",
    "    for i in range(depth):\n",
    "        print('fetching list of usernames with a depth of %d'%depth)\n",
    "        assert len(usernames) == i+1\n",
    "        friends = set()\n",
    "        # traverse each user in last depth\n",
    "        with progressbar.ProgressBar(max_value=len(usernames[i])) as bar:\n",
    "            for j, username in enumerate(usernames[i]):\n",
    "                user = network.get_user(username)\n",
    "                try:\n",
    "                    n = 0\n",
    "                    for friend in user.get_friends():\n",
    "                        recorded = False\n",
    "                        for prev in usernames: # check if friend is already recorded in previous depths\n",
    "                            if friend.get_name() in prev:\n",
    "                                recorded = True\n",
    "                        if not recorded:\n",
    "                            friends.add(friend.get_name())\n",
    "                            n += 1\n",
    "                        if max_friends and n >= max_friends:\n",
    "                            break\n",
    "                except:\n",
    "                    pass\n",
    "                finally:\n",
    "                    bar.update(j)\n",
    "        usernames.append(friends)\n",
    "    return usernames"
   ]
  },
  {
   "cell_type": "code",
   "execution_count": 6,
   "metadata": {},
   "outputs": [],
   "source": [
    "def get_usernames():\n",
    "    # TODO refer to cache funtions in previous hw\n",
    "    path = os.path.join(os.getcwd(), PATH_USERNAMES)\n",
    "    if os.path.isfile(path):\n",
    "        return np.load(path, allow_pickle=True)\n",
    "    dataset = crawl_user_friends([bing_search()], depth=1, max_friends=20)\n",
    "    dataset = np.array(list(set.union(*dataset)), dtype=object)\n",
    "    np.save(path, dataset)\n",
    "    return dataset"
   ]
  },
  {
   "cell_type": "code",
   "execution_count": 61,
   "metadata": {
    "scrolled": false
   },
   "outputs": [
    {
     "name": "stdout",
     "output_type": "stream",
     "text": [
      "crawling usernames from Bing\n"
     ]
    },
    {
     "name": "stderr",
     "output_type": "stream",
     "text": [
      "100% (1000 of 1000) |####################| Elapsed Time: 0:02:11 Time:  0:02:11\n"
     ]
    },
    {
     "name": "stdout",
     "output_type": "stream",
     "text": [
      "crawled 768 usernames from bing search\n",
      "fetching list of usernames with a depth of 1\n"
     ]
    },
    {
     "name": "stderr",
     "output_type": "stream",
     "text": [
      "100% (768 of 768) |######################| Elapsed Time: 0:42:58 Time:  0:42:58\n"
     ]
    }
   ],
   "source": [
    "USERNAMES = get_usernames()"
   ]
  },
  {
   "cell_type": "code",
   "execution_count": 7,
   "metadata": {
    "scrolled": true
   },
   "outputs": [],
   "source": [
    "USERNAMES = get_usernames()"
   ]
  },
  {
   "cell_type": "markdown",
   "metadata": {},
   "source": [
    "During the process of scrape username te found out There is a limitation in the original method of `pylast._collect_nodes`"
   ]
  },
  {
   "cell_type": "code",
   "execution_count": 8,
   "metadata": {},
   "outputs": [],
   "source": [
    "import xml.dom\n",
    "def _collect_nodes(limit, sender, method_name, cacheable, params=None):\n",
    "    \"\"\"\n",
    "    Returns a sequence of dom.Node objects about as close to limit as possible\n",
    "    \"\"\"\n",
    "\n",
    "    if not params:\n",
    "        params = sender._get_params()\n",
    "\n",
    "    nodes = []\n",
    "    page = 1\n",
    "    end_of_pages = False\n",
    "\n",
    "    while not end_of_pages:\n",
    "        params[\"page\"] = str(page)\n",
    "\n",
    "        tries = 1\n",
    "        while True:\n",
    "            try:\n",
    "                doc = sender._request(method_name, cacheable, params)\n",
    "                break  # success\n",
    "            except Exception as e:\n",
    "                if tries >= 3:\n",
    "                    raise e\n",
    "                # Wait and try again\n",
    "                time.sleep(1)\n",
    "                tries += 1\n",
    "\n",
    "        doc = pylast.cleanup_nodes(doc)\n",
    "\n",
    "        # break if there are no child nodes\n",
    "        if not doc.documentElement.childNodes:\n",
    "            break\n",
    "        main = doc.documentElement.childNodes[0]\n",
    "\n",
    "        if main.hasAttribute(\"totalPages\"):\n",
    "            total_pages = pylast._number(main.getAttribute(\"totalPages\"))\n",
    "        elif main.hasAttribute(\"totalpages\"):\n",
    "            total_pages = pylast._number(main.getAttribute(\"totalpages\"))\n",
    "        else:\n",
    "            raise Exception(\"No total pages attribute\")\n",
    "\n",
    "        for node in main.childNodes:\n",
    "            if not node.nodeType == xml.dom.Node.TEXT_NODE:\n",
    "                nodes.append(node)\n",
    "\n",
    "        if page >= total_pages:\n",
    "            end_of_pages = True\n",
    "\n",
    "        page += 1\n",
    "\n",
    "    return nodes\n",
    "\n",
    "# overide pylast's method\n",
    "pylast._collect_nodes = _collect_nodes"
   ]
  },
  {
   "cell_type": "markdown",
   "metadata": {},
   "source": [
    "Now we will use Last.fm's api method `network.get_user(username)` to find out whether this username is valid. Then we will is use Last.fm's api method `user.get_top_tracks` to collected all the play records assciated with this valid user in one month.  \n",
    "With 9682 requests, we are able to collect 6360 valid users with their play records. <br>\n",
    "We stored these records in a dictionary:<br>\n",
    "`{'user_1':{ 'Album','Artist' : 'playcount'},\n",
    "...\n",
    "{'user_N':{ 'Album','Artist' : 'playcount'}}`"
   ]
  },
  {
   "cell_type": "code",
   "execution_count": 9,
   "metadata": {},
   "outputs": [],
   "source": [
    "def get_dictionary(usernames=USERNAMES):\n",
    "    \n",
    "    # check if there exists rating matrix\n",
    "    path_rating_dict = os.path.join(os.getcwd(), PATH_RATING_DICT)\n",
    "    if os.path.isfile(path_rating_dict):\n",
    "        return np.load(path_rating_dict, allow_pickle=True).item()\n",
    "    \n",
    "    d = {} # {username: {(song, artist): playcount}}\n",
    "    with progressbar.ProgressBar(max_value=len(usernames)) as bar:\n",
    "        for user_index, username in enumerate(usernames):\n",
    "            try:\n",
    "                user = network.get_user(username)\n",
    "                tracks = user.get_top_tracks(period=\"1month\", limit=1000, cacheable=True) # todo test cacheable\n",
    "                if username not in d and len(tracks):\n",
    "                    d[username] = {}\n",
    "                for item in tracks:\n",
    "                    track, play_count = item\n",
    "                    key =(track.get_artist().get_name(), track.get_name())\n",
    "                    d[username][key] = play_count\n",
    "            except Exception as e:\n",
    "                pass\n",
    "            finally:\n",
    "#                 with open(path_rating_dict, 'w') as f:\n",
    "                np.save(path_rating_dict, d)\n",
    "    return d"
   ]
  },
  {
   "cell_type": "markdown",
   "metadata": {},
   "source": [
    "## Explore data\n",
    "Now that we have successfully generated a disctionary of user-songs mapping, let's visualize it to better understand the underlying nature of the data. We have successful gather song ratings from 9,682 users, with a combined number of 1,780,000 songs. We observe an exponential distribution in both user activies (number of unique songs per user) and the listeners per songs. This indicates that a few number of hyper-ative users accounts for most of the user activities while a few popular songs amass most of the popularity. For most users, we also observe that far fewers songs have high play counts while the majority songs had only been listened to only a number of times. This is typically the case for most user-product matrix for there are far more products than ratings, while there are orders of magnitude more songs that a user glosses over than the few that ended up getting listened to repeadtly. "
   ]
  },
  {
   "cell_type": "code",
   "execution_count": 223,
   "metadata": {
    "scrolled": false
   },
   "outputs": [
    {
     "name": "stderr",
     "output_type": "stream",
     "text": [
      "100% (9682 of 9682) |####################| Elapsed Time: 9:50:11 Time:  9:50:11\n"
     ]
    }
   ],
   "source": [
    "user_play_dict = get_dictionary()\n",
    "print('Number of Valid Users: %d'% len(user_play_dict))\n",
    "print('Number of Valid Songs: %d'% sum(map(len, user_play_dict.values())))"
   ]
  },
  {
   "cell_type": "code",
   "execution_count": 10,
   "metadata": {},
   "outputs": [
    {
     "name": "stdout",
     "output_type": "stream",
     "text": [
      "Number of Valid Users: 6360\n",
      "Number of Valid Songs: 4847252\n"
     ]
    }
   ],
   "source": [
    "user_play_dict = get_dictionary()\n",
    "print('Number of Valid Users: %d'% len(user_play_dict))\n",
    "print('Number of Valid Songs: %d'% sum(map(len, user_play_dict.values())))"
   ]
  },
  {
   "cell_type": "markdown",
   "metadata": {},
   "source": [
    "##  Data Preprocessing\n",
    "Given our observation, we have manually set up parameters to purge the outliers in the long tail of the exponential distribution, that is, users who had only listened to a few songs (in the past month) or songs that had rarely been listened to. \n",
    "<br><br>\n",
    "But we still face the question of how to convert user's playcounts into a rating for a given song. To contraint the wide range of playcounts, we will use the logarithmic scale instead of the linear scale. Subsequently we have normalized the log playcount for each users to generate a relative user rating from [0.1 to 1]. We perform this transformation with the assumption that playcounts indicates how much a user favor the song, thus the more playcounts yields higher ratings.  "
   ]
  },
  {
   "cell_type": "code",
   "execution_count": 12,
   "metadata": {},
   "outputs": [],
   "source": [
    "def normalize_ratings(play_count):\n",
    "    if not len(play_count):\n",
    "        return play_count\n",
    "    play_count = np.log(np.array(play_count, dtype=np.float))\n",
    "#     play_count = np.sqrt(np.log(np.array(play_count, dtype=np.float)))\n",
    "    max_count = np.max(play_count)\n",
    "    if max_count > 0:\n",
    "        play_count /= max_count\n",
    "    play_count = play_count*0.9 + 0.1\n",
    "    return play_count.tolist()"
   ]
  },
  {
   "cell_type": "code",
   "execution_count": 13,
   "metadata": {},
   "outputs": [],
   "source": [
    "def purge_rating_dict(user_play_dict, min_songs, min_users):\n",
    "    \"\"\"\n",
    "    1. remove users with only a few played songs (<min_songs)\n",
    "    2. remove songs played by only a few users (<min_users)\n",
    "    3. normalize playcounts\n",
    "    4. return user_index_list, song_index_list, user_list, song_list, rating_list\n",
    "    \"\"\"\n",
    "    # List for build up Matrix\n",
    "    user_indices = []\n",
    "    song_indices = []\n",
    "\n",
    "    rating_list = []\n",
    "    user_list = []\n",
    "    song_list = []\n",
    "\n",
    "    # remove users with only a few played songs (<min_songs)\n",
    "    remove_user_list = []\n",
    "    print('user num:', len(user_play_dict), end='')\n",
    "    for user in user_play_dict:\n",
    "        if len(user_play_dict[user]) < min_songs:\n",
    "            remove_user_list.append(user)\n",
    "            \n",
    "    for key in remove_user_list:\n",
    "        if key in user_play_dict:\n",
    "            del user_play_dict[key]\n",
    "            \n",
    "    print('->', len(user_play_dict), end='\\n')\n",
    "    \n",
    "    # remove songs played by only a few users (<min_users)\n",
    "    song_dict = {}\n",
    "    remove_songs = set()\n",
    "    for keys, values in user_play_dict.items():\n",
    "        for song in values:\n",
    "            song_dict[song] = song_dict.get(song, 0) + 1\n",
    "    print('song num :', len(song_dict), end='')\n",
    "    for key in song_dict:\n",
    "        if song_dict[key] < min_users:\n",
    "            remove_songs.add(key)\n",
    "            \n",
    "    for key in remove_songs:\n",
    "        if key in song_dict:\n",
    "            del song_dict[key]\n",
    "    print('->', len(song_dict), end='\\n')\n",
    "    \n",
    "    d = {}\n",
    "    for name in user_play_dict.keys():\n",
    "        ratings = []\n",
    "        _remove_songs = []\n",
    "        _remove_users = []\n",
    "        for k, v in user_play_dict[name].items():\n",
    "            if k in remove_songs:\n",
    "                _remove_songs.append(k)\n",
    "                continue\n",
    "            if k not in d:\n",
    "                song_indices.append(k)\n",
    "                d[k] = len(d)\n",
    "            user_list.append(len(user_indices))\n",
    "            song_list.append(d[k])\n",
    "            ratings.append(v)\n",
    "        if len(ratings):\n",
    "            rating_list.extend(normalize_ratings(ratings))\n",
    "            user_indices.append(name)\n",
    "        else:\n",
    "            _remove_users.append(name)\n",
    "        for s in _remove_songs:\n",
    "            if s in user_play_dict[name]:\n",
    "                del user_play_dict[name][s]\n",
    "    for u in _remove_users:\n",
    "        if u in user_play_dict:\n",
    "            del user_play_dict[u]\n",
    "    \n",
    "    return rating_list, user_list, song_list, user_indices, song_indices"
   ]
  },
  {
   "cell_type": "code",
   "execution_count": 14,
   "metadata": {},
   "outputs": [
    {
     "name": "stdout",
     "output_type": "stream",
     "text": [
      "user num: 6360-> 6246\n",
      "song num : 1780000-> 8496\n"
     ]
    }
   ],
   "source": [
    "path_rating_dict = os.path.join(os.getcwd(), PATH_RATING_DICT)\n",
    "user_play_dict = np.load(path_rating_dict, allow_pickle=True).item()\n",
    "rating_list, user_list, song_list, user_indices, song_indices = purge_rating_dict(user_play_dict, min_songs=10, min_users=50)"
   ]
  },
  {
   "cell_type": "code",
   "execution_count": 15,
   "metadata": {},
   "outputs": [],
   "source": [
    "def processVisual(dt):\n",
    "    song_dict = {}\n",
    "    user_dict = {}\n",
    "    remove_songs = set()\n",
    "    for key, values in dt.items():\n",
    "        user_dict[key] = len(values)\n",
    "        for song in values:\n",
    "            song_dict[song] = song_dict.get(song, 0) + 1\n",
    "        \n",
    "    return song_dict, user_dict\n",
    "\n",
    "song_dict, user_dict = processVisual(user_play_dict)"
   ]
  },
  {
   "cell_type": "code",
   "execution_count": 16,
   "metadata": {},
   "outputs": [
    {
     "data": {
      "image/png": "[encoded data removed]",
      "text/plain": [
       "<Figure size 432x288 with 1 Axes>"
      ]
     },
     "metadata": {
      "needs_background": "light"
     },
     "output_type": "display_data"
    }
   ],
   "source": [
    "# Music Listened By Number of Users\n",
    "def plot_Users_Music(song_dict):            \n",
    "    song_list = []\n",
    "    song_list = sorted(song_dict.items(), key=operator.itemgetter(1),reverse=True)\n",
    "    x = []\n",
    "    for i in song_list:\n",
    "        x.append(i[1])\n",
    "    fig, ax = plt.subplots()\n",
    "    ax.set(xlabel='Song', ylabel='#listeners',\n",
    "           title='#Listener per Song')\n",
    "    ax.grid()\n",
    "\n",
    "    ax.plot(np.arange(len(x))+1, x, label='')\n",
    "    fig.savefig(\"test.png\")\n",
    "    plt.show()\n",
    "    \n",
    "plot_Users_Music(song_dict)"
   ]
  },
  {
   "cell_type": "code",
   "execution_count": 17,
   "metadata": {},
   "outputs": [
    {
     "data": {
      "image/png": "[encoded data removed]",
      "text/plain": [
       "<Figure size 432x288 with 1 Axes>"
      ]
     },
     "metadata": {
      "needs_background": "light"
     },
     "output_type": "display_data"
    }
   ],
   "source": [
    "# About User Activities in last Month\n",
    "def plot_Users_Activ(user_dict):\n",
    "    user_list = []\n",
    "    user_list = sorted(user_dict.items(), key=operator.itemgetter(1),reverse=True)\n",
    "    x = []\n",
    "    for i in user_list:\n",
    "        x.append(i[1])\n",
    "    fig, ax = plt.subplots()\n",
    "    ax.set(xlabel='User', ylabel='Different Music Listened/User (m/u)',\n",
    "           title='About User Activties in Last one month')\n",
    "    ax.grid()\n",
    "\n",
    "    ax.plot(np.arange(len(x))+1, x, label='')\n",
    "    fig.savefig(\"test.png\")\n",
    "    plt.show()\n",
    "\n",
    "plot_Users_Activ(user_dict)"
   ]
  },
  {
   "cell_type": "code",
   "execution_count": 18,
   "metadata": {},
   "outputs": [
    {
     "data": {
      "image/png": "[encoded data removed]",
      "text/plain": [
       "<Figure size 432x288 with 1 Axes>"
      ]
     },
     "metadata": {
      "needs_background": "light"
     },
     "output_type": "display_data"
    }
   ],
   "source": [
    "# Normalization Of User Playcount\n",
    "def plot_User_Normalization(user):\n",
    "    picked_user = user\n",
    "    picked_user_track = sorted(user_play_dict[picked_user].items(), key=operator.itemgetter(1),reverse=True)\n",
    "    play_count = []\n",
    "    for i in picked_user_track:\n",
    "        play_count.append(i[1])\n",
    "\n",
    "    # call normalization\n",
    "    play_count_2 = normalize_ratings(play_count)\n",
    "\n",
    "    play_count = np.array(play_count)\n",
    "    max_count = np.max(play_count)\n",
    "    min_count = np.min(play_count)\n",
    "    if max_count > 0:\n",
    "        play_count = (play_count - min_count)/(max_count-min_count)\n",
    "\n",
    "    # play_count.tolist()\n",
    "    fig, ax = plt.subplots()\n",
    "    ax.set(xlabel='Music', ylabel='Playcount',\n",
    "           title='Normalization of User\\'s Playcount')\n",
    "    ax.grid()\n",
    "\n",
    "    ax.plot(np.arange(len(play_count))+1, play_count, label='Linear Normalization')\n",
    "    ax.plot(np.arange(len(play_count_2))+1, play_count_2, label='Log Normalization')\n",
    "    fig.savefig(\"test.png\")\n",
    "    plt.legend(title='')\n",
    "    plt.show()\n",
    "\n",
    "random_user = list(user_play_dict)[21]\n",
    "plot_User_Normalization(random_user)"
   ]
  },
  {
   "cell_type": "markdown",
   "metadata": {},
   "source": [
    "## Data Preparation\n",
    "\n",
    "\n",
    "Now that We have completed data cleaning and preprocessing, it's time the prepare the data for the recommender training pipelines. We will first combine the lists of users IDs, song IDs and user ratings into a user-song matrix, with each entries being the user's rating [0.1, 1] and 0 if the song is unseen by the user. We will then split the matrix into three identically shaped matrixes: a training, validation and test matrix by randomly selecting a percentage of entries for each matrix(train=70%, val=20%, test=10%), while keep the rest entries zeros. The training set is used for training, while the validation set helps us tune the model and prevent overfitting. Finally, we will compare the user's actual rating in the test set against the predictions made by recommender. To help improve memory efficiency, we will use scipy's sparse matrix to store out training, validation and test data."
   ]
  },
  {
   "cell_type": "code",
   "execution_count": 19,
   "metadata": {},
   "outputs": [],
   "source": [
    "from sklearn.model_selection import train_test_split\n",
    "def split_dataset(data, row, col, val_size=0.2, test_size=0.1, random_state=0xDECAFE):\n",
    "\n",
    "    train_userid, test_userid, train_songid, test_songid, train_rating, test_rating = train_test_split(row, col, data, test_size=0.1, random_state=random_state)\n",
    "    train_userid, val_userid, train_songid, val_songid, train_rating, val_rating = train_test_split(train_userid, train_songid, train_rating, test_size=0.2, random_state=random_state)\n",
    "    \n",
    "    # Split matrix\n",
    "    matrix_train = sp.coo_matrix((train_rating, (train_userid, train_songid)), shape=(len(user_indices), len(song_indices)))\n",
    "    matrix_val = sp.coo_matrix((val_rating, (val_userid, val_songid)), shape=(len(user_indices), len(song_indices)))\n",
    "    matrix_test = sp.coo_matrix((test_rating, (test_userid,\n",
    "                                               test_songid)), shape=(len(user_indices), len(song_indices)))\n",
    "    return matrix_train, matrix_val, matrix_test"
   ]
  },
  {
   "cell_type": "code",
   "execution_count": 20,
   "metadata": {},
   "outputs": [],
   "source": [
    "matrix_train, matrix_val, matrix_test = split_dataset(rating_list, user_list, song_list)"
   ]
  },
  {
   "cell_type": "markdown",
   "metadata": {},
   "source": [
    "## Building Recommenders\n",
    "\n",
    "Before we start building our recommender models, it's important to get an overview of what they do. Recall that we have an extremely sparse user-song rating matrix. In user-based collaborative filtering, the recommender algorithm learns a representation of the underlying data distribution and \"densifies\" the sparse matrix in the process. This is true for both matrix factorization and deep autoencoder, which essentially peform dimension reduction of the data, similar to the function of PCA. For instance, the \"k\" parameter determining the later-feature dimension in matrix factorization is the equavilent to choosing the top k eigenvectors and eigenvalues in PCA. Similarly, autoencoder distills the dimensions of the input data by forcing it through a bottle-neck layer. \n",
    "\n",
    "With this in mind, we are ready to build our recommenders. "
   ]
  },
  {
   "cell_type": "markdown",
   "metadata": {},
   "source": [
    "### Matrix Factorization Pipeline"
   ]
  },
  {
   "cell_type": "markdown",
   "metadata": {},
   "source": [
    "In collaborative filtering, we take the user-song rating matrix and attempts to factorize it into user-latent features and song-latent features. By viewing rating as the product of both user and song properties, we can predict a user's ratings on song they have not yet listened to."
   ]
  },
  {
   "cell_type": "markdown",
   "metadata": {},
   "source": [
    "Given the sparsely filled rating matrix $X\\in \\mathbb{R}^{m\\times n}$, we are going to find feature matrices $U \\in \\mathbb{R}^{m\\times k}$ and $V \\in \\mathbb{R}^{n\\times k}$ such that $UV^T = X$.\n",
    "Each row of $U$ is a feature-vector corresponding to a user, each row of $V$ is a feature-vector corresponding to a song. $u_i^Tv_j$ is the predicted rating of user $i$ on movie $j$. We will use scipy's singular value decomposition method `Scipy.linalg.svds` to factorize the matrix and mean square error for evaluating the reconstruction loss."
   ]
  },
  {
   "cell_type": "code",
   "execution_count": 21,
   "metadata": {},
   "outputs": [],
   "source": [
    "# cite: error computation taken from 688 hw4_cf\n",
    "import scipy.linalg as la\n",
    "import time\n",
    "\n",
    "def error(X, U, V):\n",
    "    \"\"\" Compute the mean error of the observed ratings in X and their estimated values. \n",
    "\n",
    "        args: \n",
    "            X : np.array[num_users, num_movies] -- the ratings matrix\n",
    "            U : np.array[num_users, num_features] -- a matrix of features for each user\n",
    "            V : np.array[num_movies,num_features] -- a matrix of features for each movie\n",
    "\n",
    "        return: float -- the mean squared error between non-zero entries of X and the ratings\n",
    "            predicted by U and V; as this is an error and not a loss function, you do not need to include the\n",
    "            regularizing terms.\n",
    "        \"\"\"\n",
    "    return np.sum(np.square(np.multiply(np.sign(X), (X - np.dot(U, V)))))/np.sum(X!=0)"
   ]
  },
  {
   "cell_type": "markdown",
   "metadata": {},
   "source": [
    "After experimentation, we have chosen k=300 which gives us both a relatively low training (reconstruction) error and a test error, while keeping the matrixes of user-latent features and song-latent features reasonably small."
   ]
  },
  {
   "cell_type": "code",
   "execution_count": 22,
   "metadata": {
    "scrolled": true
   },
   "outputs": [],
   "source": [
    "svd_u, svd_s, svd_vt = sp.linalg.svds(matrix_train, k=300)"
   ]
  },
  {
   "cell_type": "code",
   "execution_count": 23,
   "metadata": {
    "scrolled": true
   },
   "outputs": [
    {
     "name": "stdout",
     "output_type": "stream",
     "text": [
      "Train Error:  0.04620375153263186\n",
      "Val Error:  0.08332249067412383\n"
     ]
    }
   ],
   "source": [
    "# train error\n",
    "print(\"Train Error: \", error(matrix_train.todense(), svd_u@np.diag(svd_s), svd_vt))\n",
    "# # test error\n",
    "print(\"Val Error: \", error(matrix_val.todense(), svd_u@np.diag(svd_s), svd_vt))"
   ]
  },
  {
   "cell_type": "markdown",
   "metadata": {},
   "source": [
    "### Autoencoder Pipeline\n",
    "\n",
    "A deep autoencoder is a type of multi-layer perceptron (MLP) that learning efficient encoding of the input data. An MLP can be used for both classification and regressions by passing the input features foward through several linear layers with non-linear activations in each layer. On the other hand, a typical autoencoder has a symmetrical archtiecture, with layers being the widest on both ends and increasingly tapers toward a bottleneck layer in the center. Rather than predicting a class label or a value given the input, an autoencoder reconstructs the input data using a more efficient encoding (notice the bottleneck layer is significantly smaller than the input feature dimension), or essentially dimensional reduction that force the network to ignore noise in the data. The following code shows an end-to-end training pipeline using Pytorch. "
   ]
  },
  {
   "cell_type": "code",
   "execution_count": 24,
   "metadata": {},
   "outputs": [],
   "source": [
    "import os\n",
    "import time\n",
    "import math\n",
    "import torch\n",
    "import numpy as np\n",
    "import torch.nn as nn\n",
    "import scipy.sparse as sp\n",
    "import torch.optim as optim\n",
    "from torch.utils.data import Dataset, DataLoader"
   ]
  },
  {
   "cell_type": "code",
   "execution_count": 25,
   "metadata": {},
   "outputs": [],
   "source": [
    "cuda = torch.cuda.is_available()\n",
    "device = torch.device(\"cuda\" if cuda else \"cpu\")"
   ]
  },
  {
   "cell_type": "code",
   "execution_count": 26,
   "metadata": {},
   "outputs": [],
   "source": [
    "class RatingDataLoader(DataLoader):\n",
    "\n",
    "    def __init__(self, dataset, batch_size, shuffle=True):\n",
    "        \n",
    "        # super(RatingDataLoader, self).__init__(dataset=dataset, batch_size=batch_size, shuffle=shuffle) \n",
    "        self.dataset = dataset\n",
    "        self.batch_size = batch_size\n",
    "        \n",
    "        # dict{usrid: matrix_row_indices}\n",
    "        self.usr_dict = self.get_usr_dict(dataset.row)\n",
    "        self.usr_list = sorted(self.usr_dict.keys())\n",
    "        self.num_row = dataset.get_shape()[0]\n",
    "        self.num_col = dataset.get_shape()[1]\n",
    "        \n",
    "        self.shuffle = shuffle\n",
    "        self.length = math.ceil(len(self.usr_list)/self.batch_size)\n",
    "        \n",
    "    def __len__(self):\n",
    "        return self.length\n",
    "\n",
    "    def __iter__(self):\n",
    "        usr_list = self.usr_list.copy()\n",
    "        \n",
    "        # random\n",
    "        if self.shuffle:\n",
    "            np.random.shuffle(usr_list)\n",
    "        \n",
    "        while len(usr_list) > 0:\n",
    "            indices_row = []\n",
    "            indices_col = []\n",
    "            for i in range(self.batch_size):\n",
    "                if len(usr_list) == 0:\n",
    "                    break\n",
    "                idx = self.usr_dict[usr_list.pop()]\n",
    "                indices_col.extend(idx)\n",
    "                indices_row.extend([i] * len(idx))\n",
    "                \n",
    "            row = np.array(indices_row, dtype=np.int32)\n",
    "            col = self.dataset.col[indices_col]\n",
    "            data = torch.FloatTensor(self.dataset.data[indices_col])\n",
    "            row_col = torch.LongTensor(np.stack((row, col)))\n",
    "            \n",
    "            yield torch.sparse.FloatTensor(row_col, data, torch.Size([indices_row[-1]+1, self.num_col])).to_dense()\n",
    "    \n",
    "    def get_usr_dict(self, row_list):\n",
    "        d = {}\n",
    "        for i, u in enumerate(row_list):\n",
    "            if u in d:\n",
    "                d[u].append(i)\n",
    "            else:\n",
    "                d[u] = [i]\n",
    "        return d"
   ]
  },
  {
   "cell_type": "code",
   "execution_count": 27,
   "metadata": {},
   "outputs": [],
   "source": [
    "class Autoencoder(nn.Module):\n",
    "    \"\"\"\n",
    "    symetrical encoder-decoder layers\n",
    "    \"\"\"\n",
    "    \n",
    "    def __init__(self, layer_sizes, dropout_prob):\n",
    "        super().__init__()\n",
    "        self.layer_sizes = layer_sizes\n",
    "        self.dropout_prob = dropout_prob\n",
    "        self.encoder = nn.Sequential(*self.getLayers(\"encoder\"))\n",
    "        self.decoder = nn.Sequential(*self.getLayers(\"decoder\"))\n",
    "        \n",
    "    def getLayers(self, type):\n",
    "        layers = []\n",
    "        if type == \"encoder\":\n",
    "            layers.append(nn.Dropout(self.dropout_prob))\n",
    "            _layer_sizes = self.layer_sizes\n",
    "        elif type == \"decoder\":\n",
    "            _layer_sizes = self.layer_sizes[: : -1]\n",
    "        for i in range(len(_layer_sizes)-1):\n",
    "            layers.append(nn.Linear(_layer_sizes[i], _layer_sizes[i+1]))\n",
    "            layers.append(nn.Tanh())\n",
    "        return layers\n",
    "        \n",
    "    def forward(self, x):\n",
    "        x = self.encoder(x)\n",
    "        x = self.decoder(x)\n",
    "        return x"
   ]
  },
  {
   "cell_type": "code",
   "execution_count": 28,
   "metadata": {},
   "outputs": [],
   "source": [
    "def train_epoch(model, train_loader, criterion, optimizer):\n",
    "    model.train()  # set to training mode\n",
    "    model.to(device)\n",
    "    running_loss = 0.0\n",
    "    start_time = time.time()\n",
    "    for batch_idx, data in enumerate(train_loader):\n",
    "        optimizer.zero_grad()  # clear gradient for each batch\n",
    "        data = data.to(device)\n",
    "        \n",
    "        # forward\n",
    "        train_out = model(data)\n",
    "        loss = criterion(train_out, data)\n",
    "        running_loss += loss.item()\n",
    "        \n",
    "        # backward\n",
    "        loss.backward()\n",
    "        optimizer.step()\n",
    "    end_time = time.time()\n",
    "    running_loss /= len(train_loader)\n",
    "    print(\"Reconstruction Loss: %f Time: %fs\" % (running_loss, end_time - start_time))\n",
    "    return running_loss"
   ]
  },
  {
   "cell_type": "code",
   "execution_count": 29,
   "metadata": {},
   "outputs": [],
   "source": [
    "def eval_epoch(model, eval_loader, criterion):\n",
    "    with torch.no_grad():\n",
    "        model.eval()\n",
    "        model.to(device)\n",
    "        running_loss = 0.0\n",
    "        total_pred = 0\n",
    "        correct_pred = 0\n",
    "        for batch_idx, data in enumerate(eval_loader):\n",
    "            data = data.to(device)\n",
    "            eval_out = model(data)\n",
    "            total_pred = data.size(0)\n",
    "            correct_pred += (eval_out == data).sum().item()\n",
    "            loss = criterion(eval_out, data).detach()\n",
    "            running_loss += loss.item()\n",
    "        running_loss /= len(eval_loader)\n",
    "        print(\"Validation Loss: %f\" % running_loss)\n",
    "        return running_loss"
   ]
  },
  {
   "cell_type": "markdown",
   "metadata": {},
   "source": [
    "A typical loss function for an autoencoder is mean square error (MSE), which measures the reconstruction error between the input data and the recontructed data. Rather than using Pytorch's default MSE function, we need to customize our own because we do not want to compute reconstruction loss on songs the users have yet listen to. To do this, we will multiply the errors with a zero mask that exclude unseen songs."
   ]
  },
  {
   "cell_type": "code",
   "execution_count": 30,
   "metadata": {},
   "outputs": [],
   "source": [
    "class zero_masked_MSELoss(nn.Module):\n",
    "    def __init__(self):\n",
    "        super().__init__()\n",
    "    \n",
    "    def forward(self, input, target):\n",
    "        diff = input - target\n",
    "        mask = torch.where(target != 0, torch.ones_like(target), target)\n",
    "        return torch.sum(diff ** 2 * mask) / torch.sum(mask)"
   ]
  },
  {
   "cell_type": "markdown",
   "metadata": {},
   "source": [
    "Below is the end-to-end pipeline for the autoencoder training. We will add an additional dropout layer (p=0.5) to our input layer for the purpose of denoising. In the dropout layer, with the dropout probability p, the input neuron will be zero-out while the rest of the neuron will be scaled by 1/(1-p). This further prevents the network from overfitting to the input data. We will use train the network by loading each mini-batch, with Adam as our optimizer (learning rate=0.001)."
   ]
  },
  {
   "cell_type": "code",
   "execution_count": 33,
   "metadata": {},
   "outputs": [],
   "source": [
    "def train_autoencoder(model, path):\n",
    "    \n",
    "    # load data\n",
    "    print(\"loading data\")\n",
    "\n",
    "    batch_size = 256\n",
    "#     matrix_combined = (matrix_train + matrix_val).tocoo()\n",
    "    train_loader = RatingDataLoader(matrix_train, batch_size, shuffle=True)\n",
    "    test_loader = RatingDataLoader(matrix_val, batch_size, shuffle=False)\n",
    "    \n",
    "    criterion = zero_masked_MSELoss()\n",
    "    optimizer = optim.Adam(model.parameters(), lr=0.001)\n",
    "\n",
    "    # training loop\n",
    "    n_epochs = 250\n",
    "    print(\"training autoencoder for %d epochs:\" % n_epochs)\n",
    "    train_loss = []\n",
    "    val_loss = []\n",
    "    with progressbar.ProgressBar(max_value=n_epochs) as bar:\n",
    "        for i in range(n_epochs):\n",
    "#             print(\"Epoch: %d/%d\"%((i+1),n_epochs))\n",
    "            t_loss = train_epoch(model, train_loader, criterion, optimizer)\n",
    "            v_loss = eval_epoch(model, test_loader, criterion)\n",
    "            train_loss.append(t_loss)\n",
    "            val_loss.append(v_loss)\n",
    "            bar.update(i)\n",
    "    print(\"train_loss=%f\\tval_loss=%f\"%(train_loss[-1], val_loss[-1]))\n",
    "    print(\"done\")\n",
    "    torch.save({\n",
    "            'model_state_dict': model.state_dict(),\n",
    "            'train_loss': train_loss,\n",
    "            'val_loss': val_loss,\n",
    "            }, path)\n",
    "    return train_loss, val_loss\n",
    "\n",
    "def plot_loss(train_loss, val_loss):\n",
    "\n",
    "    train_loss = np.array(train_loss)\n",
    "    val_loss = np.array(val_loss)\n",
    "\n",
    "    fig, ax = plt.subplots()\n",
    "    ax.set(xlabel='EPOCH', ylabel='LOSS',title='LOSS')\n",
    "    ax.grid()\n",
    "    \n",
    "    ax.plot(np.arange(len(train_loss))+1, train_loss, label='train loss')\n",
    "    ax.plot(np.arange(len(val_loss))+1, val_loss, label='val loss')\n",
    "    plt.legend(title='')\n",
    "    plt.show()\n",
    "    \n",
    "\n",
    "def get_recommender_AE():\n",
    "    recommender_AE = Autoencoder([matrix_train.get_shape()[1], 1000, 1000, 400], dropout_prob=0.5)\n",
    "    print(recommender_AE)\n",
    "    path_model = os.path.join(os.getcwd(), PATH_MODEL)\n",
    "    if os.path.isfile(path_model):\n",
    "        checkpoint = torch.load(path_model)\n",
    "        recommender_AE.load_state_dict(checkpoint['model_state_dict'])\n",
    "        train_loss = checkpoint['train_loss']\n",
    "        val_loss = checkpoint['val_loss']\n",
    "    else:\n",
    "        train_loss, val_loss = train_autoencoder(recommender_AE, path_model)\n",
    "    plot_loss(train_loss, val_loss)\n",
    "    return recommender_AE.to(device)"
   ]
  },
  {
   "cell_type": "code",
   "execution_count": 34,
   "metadata": {},
   "outputs": [
    {
     "name": "stdout",
     "output_type": "stream",
     "text": [
      "Autoencoder(\n",
      "  (encoder): Sequential(\n",
      "    (0): Dropout(p=0.5, inplace=False)\n",
      "    (1): Linear(in_features=8496, out_features=1000, bias=True)\n",
      "    (2): Tanh()\n",
      "    (3): Linear(in_features=1000, out_features=1000, bias=True)\n",
      "    (4): Tanh()\n",
      "    (5): Linear(in_features=1000, out_features=400, bias=True)\n",
      "    (6): Tanh()\n",
      "  )\n",
      "  (decoder): Sequential(\n",
      "    (0): Linear(in_features=400, out_features=1000, bias=True)\n",
      "    (1): Tanh()\n",
      "    (2): Linear(in_features=1000, out_features=1000, bias=True)\n",
      "    (3): Tanh()\n",
      "    (4): Linear(in_features=1000, out_features=8496, bias=True)\n",
      "    (5): Tanh()\n",
      "  )\n",
      ")\n"
     ]
    },
    {
     "data": {
      "image/png": "[encoded data removed]",
      "text/plain": [
       "<Figure size 432x288 with 1 Axes>"
      ]
     },
     "metadata": {
      "needs_background": "light"
     },
     "output_type": "display_data"
    }
   ],
   "source": [
    "recommender_AE = get_recommender_AE()"
   ]
  },
  {
   "cell_type": "markdown",
   "metadata": {},
   "source": [
    "By closely monitoring the training-validation loss, we are able to tune the model to prevent overfitting."
   ]
  },
  {
   "cell_type": "markdown",
   "metadata": {},
   "source": [
    "## Make recommendation\n",
    "After training both recommenders, it is time to examine their performance by their rating predictions. For matrix factorization, we obtain a dense user-song rating matrix by multiplying the user-latent and song-latent matrixes. For the autoencoder predicition, we will pass the training data into the foward loop and obtain a dense matrix. Subsequently, we will compare the predicted matrix from the two recommender against the unseen rating in the test set."
   ]
  },
  {
   "cell_type": "markdown",
   "metadata": {},
   "source": [
    "### Matrix Factorization Prediction\n"
   ]
  },
  {
   "cell_type": "code",
   "execution_count": 37,
   "metadata": {},
   "outputs": [],
   "source": [
    "# loading test data\n",
    "test_data = matrix_test.toarray()\n",
    "pred_MF = (svd_u@np.diag(svd_s))@svd_vt"
   ]
  },
  {
   "cell_type": "markdown",
   "metadata": {},
   "source": [
    "### Autoencoder Prediction\n"
   ]
  },
  {
   "cell_type": "code",
   "execution_count": 38,
   "metadata": {},
   "outputs": [],
   "source": [
    "train_data = matrix_train.toarray()\n",
    "tensor = torch.from_numpy(train_data).float()\n",
    "tensor = tensor.to(device)\n",
    "\n",
    "with torch.no_grad():\n",
    "    recommender_AE.eval()\n",
    "    pred_AE = recommender_AE(tensor)\n",
    "\n",
    "pred_AE = pred_AE.to(\"cpu\").detach().numpy()"
   ]
  },
  {
   "cell_type": "markdown",
   "metadata": {},
   "source": [
    "## Analysis\n",
    "After each recommender systems had made their prediction, we can compare it with a user's actual rating in the test data, which the recommender had not seen during training. Here we visualize in a row, the user's actual rating and the predictions made by both matrix factorization recommender and autoencoder recommender. To facilitate understanding, we have mapped the domain of the rating [0.1, 1] to a blue spectrum (from the lightest to darkest)."
   ]
  },
  {
   "cell_type": "code",
   "execution_count": 45,
   "metadata": {},
   "outputs": [
    {
     "data": {
      "image/png": "[encoded data removed]",
      "text/plain": [
       "<Figure size 360x144 with 1 Axes>"
      ]
     },
     "metadata": {
      "needs_background": "light"
     },
     "output_type": "display_data"
    },
    {
     "data": {
      "image/png": "[encoded data removed]",
      "text/plain": [
       "<Figure size 360x144 with 1 Axes>"
      ]
     },
     "metadata": {
      "needs_background": "light"
     },
     "output_type": "display_data"
    },
    {
     "data": {
      "image/png": "[encoded data removed]",
      "text/plain": [
       "<Figure size 360x144 with 1 Axes>"
      ]
     },
     "metadata": {
      "needs_background": "light"
     },
     "output_type": "display_data"
    },
    {
     "data": {
      "image/png": "[encoded data removed]",
      "text/plain": [
       "<Figure size 360x144 with 1 Axes>"
      ]
     },
     "metadata": {
      "needs_background": "light"
     },
     "output_type": "display_data"
    }
   ],
   "source": [
    "from matplotlib import colors\n",
    "import matplotlib.pyplot as plt\n",
    "\n",
    "def plotMatrix(lst, user_id):\n",
    "    temp = [i for i in lst]\n",
    "    lst = temp\n",
    "    fig, ax = plt.subplots(1, 1)\n",
    "    ax.spines['right'].set_visible(False)\n",
    "    ax.spines['top'].set_visible(False)\n",
    "    ax.spines['left'].set_visible(False)\n",
    "    ax.spines['bottom'].set_visible(False)\n",
    "        \n",
    "    fig.set_size_inches(5, 2)\n",
    "    intersection_matrix = np.array(lst)\n",
    "\n",
    "    ax.imshow(intersection_matrix, cmap=plt.cm.Blues, aspect='auto', interpolation='nearest')\n",
    "    ax.set_yticks(np.arange(-0.5, 3, 1), minor=True);\n",
    "    ax.grid(which='minor', color='w', linestyle='-', linewidth=6)\n",
    "\n",
    "    labels = ['Groud Truth', 'Matrix Factorization Prediction', 'AutoEncoder Prediction']\n",
    "\n",
    "    ax.set_yticks(np.arange(len(labels)))\n",
    "    ax.set_yticklabels(labels)\n",
    "    ax.set_xticklabels([])\n",
    "\n",
    "    ax.set_title(\"UserID: %s\" % user_id)\n",
    "    \n",
    "    \n",
    "def predictionCompare(user_id):\n",
    "    rating_threshold = 0\n",
    "    actual = test_data[user_id]\n",
    "    pred_MF_usr = pred_MF[user_id]\n",
    "    pred_AE_usr = pred_AE[user_id]\n",
    "    idx = np.where(actual > rating_threshold)\n",
    "\n",
    "    # sort prediction by sorted test_data\n",
    "    _actual = sorted(actual[idx], reverse=True)\n",
    "    _pred_MF_usr = sortby(actual[idx], pred_MF_usr[idx])\n",
    "    _pred_AE_usr = sortby(actual[idx], pred_AE_usr[idx])\n",
    "\n",
    "    plotMatrix([_actual, _pred_MF_usr, _pred_AE_usr], user_id)\n",
    "\n",
    "predictionCompare(6)\n",
    "predictionCompare(13)\n",
    "predictionCompare(27)\n",
    "predictionCompare(35)"
   ]
  },
  {
   "cell_type": "markdown",
   "metadata": {},
   "source": [
    "The above graphic visualizes the comparison between the actual and the predicted ratings for 5 different users. We observe that the performance of the recommenders are in fact, far lower than the expected performance during validation. Evidently, both matrix factorization and deep autoencoder had made an average prediction that is far lower than the actual rating (as seen in the ratively light saturation in comparison with the darker blues in the user's actual ratings). We suspect this is mainly due to the sparsity inherent in the data where given a user, the number of frequently played (or liked) songs is far smaller than songs that had only been played a few times. To further examine this, we dicided to plot the mean square both recommenders made in each range of rating (i.e.  from 0.1 to 0.2, from 0.2 to 0.4, etc)."
   ]
  },
  {
   "cell_type": "code",
   "execution_count": 46,
   "metadata": {},
   "outputs": [],
   "source": [
    "\"\"\"\n",
    "returns an MSE between the input matrix and the target matrix\n",
    "The mask is defined by a tuple of rating threadsholds\n",
    "\"\"\"\n",
    "def threshold_MSE(input, target, threshold):\n",
    "    diff = input - target\n",
    "    start, end = threshold\n",
    "    mask = np.where((target>start)&(target<end),1,0)\n",
    "    return np.sum(diff ** 2 * mask) / np.sum(mask)\n",
    "\n",
    "thresholds = [(0.1, 0.2), (0.2, 0.4), (0.4, 0.6), (0.6, 0.8), (0.8, 1.0)]\n",
    "threshold_MSE_MF = []\n",
    "threshold_MSE_AE = []\n",
    "\n",
    "for t in thresholds:\n",
    "    threshold_MSE_MF.append(threshold_MSE(pred_MF, test_data, t))\n",
    "    threshold_MSE_AE.append(threshold_MSE(pred_AE, test_data, t))"
   ]
  },
  {
   "cell_type": "code",
   "execution_count": 47,
   "metadata": {
    "scrolled": true
   },
   "outputs": [
    {
     "data": {
      "image/png": "[encoded data removed]",
      "text/plain": [
       "<Figure size 432x288 with 1 Axes>"
      ]
     },
     "metadata": {
      "needs_background": "light"
     },
     "output_type": "display_data"
    }
   ],
   "source": [
    "def plotDoubleBar(lst1, lst2):\n",
    "    labels = ['[0.1 - 0.2]', '[0.2 - 0.4]', '[0.4 - 0.6]', '[0.6 - 0.8]', '[0.8 - 1.0]']\n",
    "    x = np.arange(len(labels))  # the label locations\n",
    "    width = 0.35  # the width of the bars\n",
    "\n",
    "    fig, ax = plt.subplots()\n",
    "    rects1 = ax.bar(x - width/2, lst1, width, label='Matrix Factorization')\n",
    "    rects2 = ax.bar(x + width/2, lst2, width, label='AutoEncoder')\n",
    "\n",
    "    # Add some text for labels, title and custom x-axis tick labels, etc.\n",
    "    ax.set_ylabel('MSE')\n",
    "    ax.set_title('MSE at different ***')\n",
    "    ax.set_xticks(x)\n",
    "    ax.set_xticklabels(labels)\n",
    "    ax.legend()\n",
    "\n",
    "    fig.tight_layout()\n",
    "    plt.show()\n",
    "    \n",
    "Factorization_means = threshold_MSE_MF\n",
    "AutoEncoder_means = threshold_MSE_AE\n",
    "plotDoubleBar(Factorization_means, AutoEncoder_means)"
   ]
  },
  {
   "cell_type": "markdown",
   "metadata": {},
   "source": [
    "Unsurprisingly, the result matches with our expectation. We see that both recommenders had made far smaller of a mistake when predicting reatings close from 0.1 to 0.4, (a.k.a songs _not_ prefered by the user) while the mean square error gradually increases toward songs most liked by the users. This is, at least partially, in agreement with our hypothesis that the paucity of data in the songs with most liked (with most play counts) has lead to the recommender's poor performance in predicting songs with high ratings. Furthermore, to our surprise, we have also observed that the deep autoencoder performs marginally better than traditional matrix factorization. "
   ]
  },
  {
   "cell_type": "code",
   "execution_count": 49,
   "metadata": {},
   "outputs": [
    {
     "name": "stdout",
     "output_type": "stream",
     "text": [
      "MF Test Error:  0.0744864442121783\n",
      "AE Test Error:  0.06296188026915885\n"
     ]
    }
   ],
   "source": [
    "default_threshold = (0, 1)\n",
    "test_error_MF = threshold_MSE(pred_MF, test_data, default_threshold)\n",
    "test_error_AE = threshold_MSE(pred_AE, test_data, default_threshold)\n",
    "print(\"MF Test Error: \", test_error_MF)\n",
    "print(\"AE Test Error: \", test_error_AE)"
   ]
  },
  {
   "cell_type": "markdown",
   "metadata": {},
   "source": [
    "## Examine recommendation:\n",
    "Finally, we have used the recommender system to yeild a set of songs unseen in the user's training, val and test data. To our satisfaction, we have observed that the artists recommended did appeared serveral times in the user's play history. Thus, validating our recommender. "
   ]
  },
  {
   "cell_type": "code",
   "execution_count": 36,
   "metadata": {},
   "outputs": [
    {
     "name": "stdout",
     "output_type": "stream",
     "text": [
      "user id: 1874\n",
      "rating\tsong\t\t\t\t\tartist\t\t\tartist listened\n",
      "0.672\tIt Was in Me                       \tAvril Lavigne            \t  1\n",
      "0.589\tOwner of a Lonely Heart            \tYes                      \t  0\n",
      "0.563\tFalling                            \tTrevor Daniel            \t  0\n",
      "0.561\tYesterday - Remastered 2009        \tThe Beatles              \t  0\n",
      "0.553\tRadio Friendly Unit Shifter        \tNirvana                  \t  0\n",
      "0.543\tJewels Of The Sky: Inscription     \tMatana Roberts           \t  0\n",
      "0.542\tAnother One Bites The Dust ...     \tQueen                    \t  0\n",
      "0.537\tJust Wait Til Next Year            \tJohn Maus                \t  0\n",
      "0.530\tGuilty Party                       \tThe National             \t  1\n",
      "0.519\tI Apologise If You Feel Som...     \tBring Me the Horizon     \t  0\n",
      "\n",
      "\n",
      "user id: 2266\n",
      "rating\tsong\t\t\t\t\tartist\t\t\tartist listened\n",
      "0.663\tBosses Hang, Pt. I                 \tGodspeed You! Bla...     \t  0\n",
      "0.502\tAlmost Had To Start A Fight...     \tParquet Courts           \t  0\n",
      "0.491\tBatuka                             \tMadonna                  \t  4\n",
      "0.480\tPump It                            \tBlack Eyed Peas          \t  0\n",
      "0.475\tDaddy Issues                       \tDemi Lovato              \t  0\n",
      "0.457\tDid You Know?                      \tVillagers                \t  0\n",
      "0.453\tThe Spirit of Radio                \tRush                     \t  0\n",
      "0.452\tThe Trip                           \tStill Corners            \t  0\n",
      "0.448\tPeroxide                           \tECCO2k                   \t  0\n",
      "0.448\tUprising                           \tMuse                     \t  0\n",
      "\n",
      "\n",
      "user id: 2132\n",
      "rating\tsong\t\t\t\t\tartist\t\t\tartist listened\n",
      "0.565\tImmortal                           \tMarina                   \t  1\n",
      "0.564\tLighthouse                         \tGrouper                  \t  0\n",
      "0.557\tILY2                               \tCharli XCX               \t 19\n",
      "0.544\tWouldn't Leave                     \tKanye West               \t  0\n",
      "0.543\tPersonal Jesus - single ver...     \tDepeche Mode             \t  0\n",
      "0.538\tGood Morning                       \tKanye West               \t  0\n",
      "0.535\tTimebends                          \tDeerhunter               \t  0\n",
      "0.531\tI Fall Apart                       \tPost Malone              \t  3\n",
      "0.529\tJewels Of The Sky: Inscription     \tMatana Roberts           \t  0\n",
      "0.528\tSubterranean Homesick Blues        \tBob Dylan                \t  0\n",
      "\n",
      "\n",
      "user id: 2491\n",
      "rating\tsong\t\t\t\t\tartist\t\t\tartist listened\n",
      "0.646\tImitation of Life                  \tR.E.M.                   \t  0\n",
      "0.621\tDsco                               \tSweet Trip               \t  0\n",
      "0.563\tDark Ballet                        \tMadonna                  \t  0\n",
      "0.514\tWelcome Home (Sanitarium)          \tMetallica                \t  0\n",
      "0.514\tTo Your Love                       \tFiona Apple              \t 12\n",
      "0.509\tVenom                              \tLittle Simz              \t  0\n",
      "0.509\tAdore You                          \tMiley Cyrus              \t  0\n",
      "0.504\tLuxury                             \tAzealia Banks            \t  0\n",
      "0.500\tVisiting Hours                     \tKero Kero Bonito         \t  0\n",
      "0.500\tFalling                            \tTrevor Daniel            \t  0\n",
      "\n",
      "\n",
      "user id: 2006\n",
      "rating\tsong\t\t\t\t\tartist\t\t\tartist listened\n",
      "0.656\tOwner of a Lonely Heart            \tYes                      \t  0\n",
      "0.654\tYesterday - Remastered 2009        \tThe Beatles              \t  0\n",
      "0.522\tSurf (feat. Gunna)                 \tYoung Thug               \t  0\n",
      "0.517\tPlatz eins                         \tLindemann                \t  0\n",
      "0.501\tNo I in Threesome                  \tInterpol                 \t  2\n",
      "0.499\tBetter Now                         \tPost Malone              \t  0\n",
      "0.492\tLady Marmalade - From \"Moul...     \tChristina Aguilera       \t  0\n",
      "0.486\tVideo Girl                         \tFKA twigs                \t  0\n",
      "0.486\tTop (feat. Pi'erre Bourne)         \tPlayboi Carti            \t  0\n",
      "0.486\tRock and Roll                      \tLed Zeppelin             \t  0\n",
      "\n",
      "\n",
      "user id: 4190\n",
      "rating\tsong\t\t\t\t\tartist\t\t\tartist listened\n",
      "0.654\tDsco                               \tSweet Trip               \t  0\n",
      "0.578\tTop (feat. Pi'erre Bourne)         \tPlayboi Carti            \t  0\n",
      "0.571\tImmortal                           \tMarina                   \t  0\n",
      "0.570\tPiel                               \tArca                     \t  0\n",
      "0.568\tTrains                             \tPorcupine Tree           \t  0\n",
      "0.553\tUseless Phrases                    \tKing Princess            \t  0\n",
      "0.547\tCriminal                           \tBritney Spears           \t  3\n",
      "0.544\tCathedrals of Heaven               \tSwans                    \t  0\n",
      "0.520\tFalling                            \tTrevor Daniel            \t  0\n",
      "0.516\tTwist                              \tThom Yorke               \t  0\n",
      "\n",
      "\n",
      "user id: 468\n",
      "rating\tsong\t\t\t\t\tartist\t\t\tartist listened\n",
      "0.680\tThe Spirit of Radio                \tRush                     \t  0\n",
      "0.631\tThis Life                          \tVampire Weekend          \t  2\n",
      "0.599\tDsco                               \tSweet Trip               \t  0\n",
      "0.585\tVideotape                          \tRadiohead                \t  0\n",
      "0.577\tBoom Clap                          \tCharli XCX               \t  0\n",
      "0.568\tBosses Hang, Pt. I                 \tGodspeed You! Bla...     \t  0\n",
      "0.547\tJUNKY                              \tBROCKHAMPTON             \t  0\n",
      "0.543\tCall It What You Want              \tFoster the People        \t  0\n",
      "0.537\tWhat a Time (feat. Niall Ho...     \tJulia Michaels           \t  0\n",
      "0.535\tStart Me Up - Remastered           \tThe Rolling Stones       \t  0\n",
      "\n",
      "\n",
      "user id: 2996\n",
      "rating\tsong\t\t\t\t\tartist\t\t\tartist listened\n",
      "0.747\tFalling                            \tTrevor Daniel            \t  0\n",
      "0.623\tTop (feat. Pi'erre Bourne)         \tPlayboi Carti            \t 28\n",
      "0.614\tDsco                               \tSweet Trip               \t  0\n",
      "0.588\tYou Did It Yourself                \tArthur Russell           \t  0\n",
      "0.571\tRibs                               \tLorde                    \t  9\n",
      "0.568\tPagan Fears                        \tMayhem                   \t  0\n",
      "0.557\tSissy That Walk                    \tRuPaul                   \t  0\n",
      "0.555\tJoy to the World                   \tMariah Carey             \t  0\n",
      "0.552\tBoom Clap                          \tCharli XCX               \t  0\n",
      "0.541\tFuneral Fog                        \tMayhem                   \t  0\n",
      "\n",
      "\n",
      "user id: 587\n",
      "rating\tsong\t\t\t\t\tartist\t\t\tartist listened\n",
      "0.639\tNear DT, MI                        \tblack midi               \t  0\n",
      "0.576\tJESUS                              \tBROCKHAMPTON             \t  0\n",
      "0.575\tAnother One Bites The Dust ...     \tQueen                    \t  0\n",
      "0.556\tLighthouse                         \tGrouper                  \t  0\n",
      "0.541\tMidnight                           \tColdplay                 \t  0\n",
      "0.539\tThis Life                          \tVampire Weekend          \t  1\n",
      "0.535\tU (Man Like)                       \tBon Iver                 \t  0\n",
      "0.528\tI Know Places                      \tTaylor Swift             \t 27\n",
      "0.525\tBatuka                             \tMadonna                  \t  0\n",
      "0.523\t55 Year Old Daughter               \tGiant Swan               \t  0\n",
      "\n",
      "\n",
      "user id: 3516\n",
      "rating\tsong\t\t\t\t\tartist\t\t\tartist listened\n",
      "0.654\tFuneral Fog                        \tMayhem                   \t  0\n",
      "0.633\tPlatz eins                         \tLindemann                \t  0\n",
      "0.596\tLosing My Religion                 \tR.E.M.                   \t  0\n",
      "0.595\tDocking The Pod                    \tDuster                   \t  0\n",
      "0.581\tAll by Myself                      \tCéline Dion              \t  0\n",
      "0.574\tDust in the Wind                   \tKansas                   \t  0\n",
      "0.561\tYou Can't Always Get What Y...     \tThe Rolling Stones       \t  0\n",
      "0.561\tPeople Are Strange                 \tThe Doors                \t  0\n",
      "0.539\tStart Me Up - Remastered           \tThe Rolling Stones       \t  0\n",
      "0.530\tSavage Nomad                       \tDanny Brown              \t  0\n",
      "\n",
      "\n"
     ]
    }
   ],
   "source": [
    "combined_matrix = (matrix_train+matrix_val+matrix_test).toarray()\n",
    "uid = np.random.choice(user_list, 10)\n",
    "\n",
    "def sortby(X, Y):\n",
    "    return [y for x, y in sorted(zip(X, Y), reverse=True, key=lambda x: x[0])]\n",
    "\n",
    "def recommend(uid, k=10, combined_matrix=combined_matrix):\n",
    "    \n",
    "    print('user id:', uid)\n",
    "    tensor = torch.from_numpy(combined_matrix[uid]).float().to(device)\n",
    "\n",
    "    with torch.no_grad():\n",
    "        recommender_AE.eval()\n",
    "        pred_rating = recommender_AE(tensor).to('cpu').tolist()\n",
    "\n",
    "    idx = sortby(pred_rating, list(range(len(pred_rating))))\n",
    "    pred_artist = set()\n",
    "    pred_songs = []\n",
    "    for i in range(k):\n",
    "        pred_artist.add(song_indices[idx[i]][0])\n",
    "        pred_songs.append([pred_rating[idx[i]], song_indices[idx[i]], 0])\n",
    "\n",
    "    for song, playcount in user_play_dict[user_indices[uid]].items():\n",
    "        for i in range(len(pred_songs)):\n",
    "            if song[0] == pred_songs[i][1][0]:\n",
    "                pred_songs[i][2] += 1\n",
    "\n",
    "    print(\"rating\\tsong\\t\\t\\t\\t\\tartist\\t\\t\\tartist listened\")\n",
    "    for p in pred_songs:\n",
    "        artist = p[1][0] if len(p[1][0]) <= 20 else p[1][0][:17]+'...'\n",
    "        song = p[1][1] if len(p[1][1]) <= 30 else p[1][1][:27]+'...'\n",
    "        \n",
    "        print(\"%.3f\\t%-35s\\t%-25s\\t%3d\"%(p[0], song, artist, p[2]))\n",
    "    print('\\n')\n",
    "\n",
    "for i in uid:\n",
    "    recommend(i)"
   ]
  },
  {
   "cell_type": "markdown",
   "metadata": {},
   "source": [
    "## Conclusion\n",
    "The result of our studies had shown the limitation of user-based collaborative filtering. Dispite the obvious advantages of a user-based approach: no need for specific domain knowledge of song (or other products and services) and the ability to rely on user simlarity for prediction, its shortcomings are also well-explored: the prediction of the recommender is heaviliy-biased by the distribution of the data. In an effort to perform dimension reduction while minimizing reconstruction loss, we see that both recommenders have learned to make predictions closely following values of the majority ratings, which is low amongst most songs listened to by users on Last.fm. "
   ]
  },
  {
   "cell_type": "markdown",
   "metadata": {},
   "source": [
    "## Future Work\n",
    "The fact that modern deep learning technique had only shown marginal advantage over traditional matrix factorization had has prompted us to think of ways to imporve existing collaborative filtering techniques. \n",
    "\n",
    "For the autoencoder recommender, one way to mitigate the network from becoming biased toward extremely sparse and heavily skewed data is to regularize the loss during training. For instance, we might multiply the existing loss with a frequency indicator such that we penalize less on frequently appeared, low-rating songs and more on songs that rarely occurs but heavily favored by the users.\n",
    "\n",
    "Alternatively, we are eager to compare user-based collaborative filtering with content-based approaches even though the later has a more complex input features, for user similarity becomes a more elusive concept when the product or services to recommend becomes increasingly complex (such as those sold on Amazon.com). Ultimately, a combination of the two approaches might be able to compensate pitfalls in one another and lead to better recommendations for the users."
   ]
  },
  {
   "cell_type": "markdown",
   "metadata": {},
   "source": [
    "## Reference\n",
    "\n",
    "- [AutoRec: Autoencoders Meet Collaborative Filtering](http://users.cecs.anu.edu.au/~u5098633/papers/www15.pdf)\n",
    "\n",
    "- [Collaborative Filtering with Stacked Denoising AutoEncoders and Sparse Inputs](https://hal.inria.fr/hal-01256422v1/document)\n",
    "\n",
    "- [User Preference Learning in Multi-criteria Recommendations using Stacked Auto Encoders](http://delivery.acm.org/10.1145/3250000/3240412/p475-tallapally.pdf?ip=128.237.116.47&id=3240412&acc=ACTIVE%20SERVICE&key=A792924B58C015C1%2E5A12BE0369099858%2E4D4702B0C3E38B35%2E4D4702B0C3E38B35&__acm__=1575679920_47a3fdea314cf7ec643731dc63f78fda)\n",
    "\n",
    "- [A Comprehensive Collaborative Filtering Approach using Autoencoder in Recommender System](http://delivery.acm.org/10.1145/3340000/3330518/p185-Hasan.pdf?ip=128.237.116.47&id=3330518&acc=ACTIVE%20SERVICE&key=A792924B58C015C1%2E5A12BE0369099858%2E4D4702B0C3E38B35%2E4D4702B0C3E38B35&__acm__=1575679993_d72ebaf597b35cad0c9ff0b976800fa0)"
   ]
  }
 ],
 "metadata": {
  "kernelspec": {
   "display_name": "Python 3",
   "language": "python",
   "name": "python3"
  },
  "language_info": {
   "codemirror_mode": {
    "name": "ipython",
    "version": 3
   },
   "file_extension": ".py",
   "mimetype": "text/x-python",
   "name": "python",
   "nbconvert_exporter": "python",
   "pygments_lexer": "ipython3",
   "version": "3.7.4"
  }
 },
 "nbformat": 4,
 "nbformat_minor": 2
}
